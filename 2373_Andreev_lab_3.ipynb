{
 "cells": [
  {
   "cell_type": "markdown",
   "metadata": {},
   "source": [
    "### 2373, Андреев Никита"
   ]
  },
  {
   "cell_type": "markdown",
   "metadata": {},
   "source": [
    "##### В качестве атрибута классификации выберем признак **fuel_type**, т.к. он наиболее сбалансирован:"
   ]
  },
  {
   "cell_type": "code",
   "execution_count": 6,
   "metadata": {},
   "outputs": [
    {
     "data": {
      "image/png": "[encoded data removed]",
      "text/plain": [
       "<Figure size 640x480 with 1 Axes>"
      ]
     },
     "metadata": {},
     "output_type": "display_data"
    },
    {
     "data": {
      "text/html": [
       "<div>\n",
       "<style scoped>\n",
       "    .dataframe tbody tr th:only-of-type {\n",
       "        vertical-align: middle;\n",
       "    }\n",
       "\n",
       "    .dataframe tbody tr th {\n",
       "        vertical-align: top;\n",
       "    }\n",
       "\n",
       "    .dataframe thead th {\n",
       "        text-align: right;\n",
       "    }\n",
       "</style>\n",
       "<table border=\"1\" class=\"dataframe\">\n",
       "  <thead>\n",
       "    <tr style=\"text-align: right;\">\n",
       "      <th></th>\n",
       "      <th>ship_id</th>\n",
       "      <th>ship_type</th>\n",
       "      <th>route_id</th>\n",
       "      <th>month</th>\n",
       "      <th>distance</th>\n",
       "      <th>fuel_type</th>\n",
       "      <th>fuel_consumption</th>\n",
       "      <th>CO2_emissions</th>\n",
       "      <th>weather_conditions</th>\n",
       "      <th>engine_efficiency</th>\n",
       "    </tr>\n",
       "  </thead>\n",
       "  <tbody>\n",
       "    <tr>\n",
       "      <th>0</th>\n",
       "      <td>NG001</td>\n",
       "      <td>Oil Service Boat</td>\n",
       "      <td>Warri-Bonny</td>\n",
       "      <td>January</td>\n",
       "      <td>132.26</td>\n",
       "      <td>HFO</td>\n",
       "      <td>3779.77</td>\n",
       "      <td>10625.76</td>\n",
       "      <td>Stormy</td>\n",
       "      <td>92.14</td>\n",
       "    </tr>\n",
       "    <tr>\n",
       "      <th>1</th>\n",
       "      <td>NG001</td>\n",
       "      <td>Oil Service Boat</td>\n",
       "      <td>Port Harcourt-Lagos</td>\n",
       "      <td>February</td>\n",
       "      <td>128.52</td>\n",
       "      <td>HFO</td>\n",
       "      <td>4461.44</td>\n",
       "      <td>12779.73</td>\n",
       "      <td>Moderate</td>\n",
       "      <td>92.98</td>\n",
       "    </tr>\n",
       "    <tr>\n",
       "      <th>2</th>\n",
       "      <td>NG001</td>\n",
       "      <td>Oil Service Boat</td>\n",
       "      <td>Port Harcourt-Lagos</td>\n",
       "      <td>March</td>\n",
       "      <td>67.30</td>\n",
       "      <td>HFO</td>\n",
       "      <td>1867.73</td>\n",
       "      <td>5353.01</td>\n",
       "      <td>Calm</td>\n",
       "      <td>87.61</td>\n",
       "    </tr>\n",
       "    <tr>\n",
       "      <th>3</th>\n",
       "      <td>NG001</td>\n",
       "      <td>Oil Service Boat</td>\n",
       "      <td>Port Harcourt-Lagos</td>\n",
       "      <td>April</td>\n",
       "      <td>71.68</td>\n",
       "      <td>Diesel</td>\n",
       "      <td>2393.51</td>\n",
       "      <td>6506.52</td>\n",
       "      <td>Stormy</td>\n",
       "      <td>87.42</td>\n",
       "    </tr>\n",
       "    <tr>\n",
       "      <th>4</th>\n",
       "      <td>NG001</td>\n",
       "      <td>Oil Service Boat</td>\n",
       "      <td>Lagos-Apapa</td>\n",
       "      <td>May</td>\n",
       "      <td>134.32</td>\n",
       "      <td>HFO</td>\n",
       "      <td>4267.19</td>\n",
       "      <td>11617.03</td>\n",
       "      <td>Calm</td>\n",
       "      <td>85.61</td>\n",
       "    </tr>\n",
       "  </tbody>\n",
       "</table>\n",
       "</div>"
      ],
      "text/plain": [
       "  ship_id         ship_type             route_id     month  distance  \\\n",
       "0   NG001  Oil Service Boat          Warri-Bonny   January    132.26   \n",
       "1   NG001  Oil Service Boat  Port Harcourt-Lagos  February    128.52   \n",
       "2   NG001  Oil Service Boat  Port Harcourt-Lagos     March     67.30   \n",
       "3   NG001  Oil Service Boat  Port Harcourt-Lagos     April     71.68   \n",
       "4   NG001  Oil Service Boat          Lagos-Apapa       May    134.32   \n",
       "\n",
       "  fuel_type  fuel_consumption  CO2_emissions weather_conditions  \\\n",
       "0       HFO           3779.77       10625.76             Stormy   \n",
       "1       HFO           4461.44       12779.73           Moderate   \n",
       "2       HFO           1867.73        5353.01               Calm   \n",
       "3    Diesel           2393.51        6506.52             Stormy   \n",
       "4       HFO           4267.19       11617.03               Calm   \n",
       "\n",
       "   engine_efficiency  \n",
       "0              92.14  \n",
       "1              92.98  \n",
       "2              87.61  \n",
       "3              87.42  \n",
       "4              85.61  "
      ]
     },
     "execution_count": 6,
     "metadata": {},
     "output_type": "execute_result"
    }
   ],
   "source": [
    "import pandas as pd\n",
    "import matplotlib.pyplot as plt\n",
    "import seaborn as sns\n",
    "from sklearn.neighbors import KNeighborsClassifier\n",
    "from sklearn.tree import DecisionTreeClassifier\n",
    "from sklearn.metrics import accuracy_score, precision_score, recall_score, f1_score, roc_auc_score\n",
    "from sklearn.model_selection import train_test_split\n",
    "\n",
    "df = pd.read_csv(\"ship_fuel_efficiency.csv\")\n",
    "df['fuel_type'].value_counts().plot(kind='bar', width=0.8, color='lightgreen')\n",
    "plt.title(f'Гистограмма {'fuel_type'}')\n",
    "plt.grid(axis='y', alpha=0.75)\n",
    "plt.show()\n",
    "df.head()"
   ]
  },
  {
   "cell_type": "code",
   "execution_count": 7,
   "metadata": {},
   "outputs": [
    {
     "data": {
      "text/html": [
       "<div>\n",
       "<style scoped>\n",
       "    .dataframe tbody tr th:only-of-type {\n",
       "        vertical-align: middle;\n",
       "    }\n",
       "\n",
       "    .dataframe tbody tr th {\n",
       "        vertical-align: top;\n",
       "    }\n",
       "\n",
       "    .dataframe thead th {\n",
       "        text-align: right;\n",
       "    }\n",
       "</style>\n",
       "<table border=\"1\" class=\"dataframe\">\n",
       "  <thead>\n",
       "    <tr style=\"text-align: right;\">\n",
       "      <th></th>\n",
       "      <th>ship_type</th>\n",
       "      <th>route_id</th>\n",
       "      <th>month</th>\n",
       "      <th>distance</th>\n",
       "      <th>fuel_type</th>\n",
       "      <th>fuel_consumption</th>\n",
       "      <th>CO2_emissions</th>\n",
       "      <th>weather_conditions</th>\n",
       "      <th>engine_efficiency</th>\n",
       "    </tr>\n",
       "  </thead>\n",
       "  <tbody>\n",
       "    <tr>\n",
       "      <th>0</th>\n",
       "      <td>1</td>\n",
       "      <td>3</td>\n",
       "      <td>4</td>\n",
       "      <td>132.26</td>\n",
       "      <td>1</td>\n",
       "      <td>3779.77</td>\n",
       "      <td>10625.76</td>\n",
       "      <td>2</td>\n",
       "      <td>92.14</td>\n",
       "    </tr>\n",
       "    <tr>\n",
       "      <th>1</th>\n",
       "      <td>1</td>\n",
       "      <td>2</td>\n",
       "      <td>3</td>\n",
       "      <td>128.52</td>\n",
       "      <td>1</td>\n",
       "      <td>4461.44</td>\n",
       "      <td>12779.73</td>\n",
       "      <td>1</td>\n",
       "      <td>92.98</td>\n",
       "    </tr>\n",
       "    <tr>\n",
       "      <th>2</th>\n",
       "      <td>1</td>\n",
       "      <td>2</td>\n",
       "      <td>7</td>\n",
       "      <td>67.30</td>\n",
       "      <td>1</td>\n",
       "      <td>1867.73</td>\n",
       "      <td>5353.01</td>\n",
       "      <td>0</td>\n",
       "      <td>87.61</td>\n",
       "    </tr>\n",
       "    <tr>\n",
       "      <th>3</th>\n",
       "      <td>1</td>\n",
       "      <td>2</td>\n",
       "      <td>0</td>\n",
       "      <td>71.68</td>\n",
       "      <td>0</td>\n",
       "      <td>2393.51</td>\n",
       "      <td>6506.52</td>\n",
       "      <td>2</td>\n",
       "      <td>87.42</td>\n",
       "    </tr>\n",
       "    <tr>\n",
       "      <th>4</th>\n",
       "      <td>1</td>\n",
       "      <td>1</td>\n",
       "      <td>8</td>\n",
       "      <td>134.32</td>\n",
       "      <td>1</td>\n",
       "      <td>4267.19</td>\n",
       "      <td>11617.03</td>\n",
       "      <td>0</td>\n",
       "      <td>85.61</td>\n",
       "    </tr>\n",
       "  </tbody>\n",
       "</table>\n",
       "</div>"
      ],
      "text/plain": [
       "   ship_type  route_id  month  distance  fuel_type  fuel_consumption  \\\n",
       "0          1         3      4    132.26          1           3779.77   \n",
       "1          1         2      3    128.52          1           4461.44   \n",
       "2          1         2      7     67.30          1           1867.73   \n",
       "3          1         2      0     71.68          0           2393.51   \n",
       "4          1         1      8    134.32          1           4267.19   \n",
       "\n",
       "   CO2_emissions  weather_conditions  engine_efficiency  \n",
       "0       10625.76                   2              92.14  \n",
       "1       12779.73                   1              92.98  \n",
       "2        5353.01                   0              87.61  \n",
       "3        6506.52                   2              87.42  \n",
       "4       11617.03                   0              85.61  "
      ]
     },
     "execution_count": 7,
     "metadata": {},
     "output_type": "execute_result"
    }
   ],
   "source": [
    "df = df.drop(columns='ship_id', axis=1)\n",
    "categorical_features = ['route_id', 'ship_type', 'fuel_type', 'weather_conditions', 'month']\n",
    "numerical_features = ['distance', 'fuel_consumption', 'CO2_emissions', 'engine_efficiency', 'CO2_per_km']\n",
    "\n",
    "def categorical_to_numerical_process(dataframe, column):\n",
    "    \n",
    "    def convert_to_index(value, uniq_values):\n",
    "        return uniq_values.index(value)\n",
    "        \n",
    "    lists_uniq_values = sorted(list(set(dataframe[column])))\n",
    "    dataframe[column] = dataframe[column].apply(lambda x: convert_to_index(x, lists_uniq_values))\n",
    "    \n",
    "for feature in categorical_features:\n",
    "    categorical_to_numerical_process(df, feature)\n",
    "\n",
    "df.head()"
   ]
  },
  {
   "cell_type": "markdown",
   "metadata": {},
   "source": [
    "#### Разделим данных на обучающую и тестовую выборку:"
   ]
  },
  {
   "cell_type": "code",
   "execution_count": 8,
   "metadata": {},
   "outputs": [],
   "source": [
    "target = df['fuel_type']\n",
    "df = df.drop('fuel_type', axis=1)\n",
    "\n",
    "x_train, x_test, y_train, y_test = train_test_split(df, target, test_size=0.2, random_state=42, stratify=target)"
   ]
  },
  {
   "cell_type": "markdown",
   "metadata": {},
   "source": [
    "### kNN:"
   ]
  },
  {
   "cell_type": "code",
   "execution_count": 9,
   "metadata": {},
   "outputs": [
    {
     "name": "stdout",
     "output_type": "stream",
     "text": [
      "Accuracy: 0.64 \n",
      "Precision: 0.63 \n",
      "Recall: 0.64       \n",
      "F1 Score: 0.63 \n",
      "ROC: 0.60\n"
     ]
    }
   ],
   "source": [
    "model_knn = KNeighborsClassifier()\n",
    "model_knn.fit(x_train, y_train)\n",
    "predictions_knn = model_knn.predict(x_test)\n",
    "\n",
    "accuracy = accuracy_score(y_test, predictions_knn)\n",
    "precision = precision_score(y_test, predictions_knn, average='weighted')\n",
    "recall = recall_score(y_test, predictions_knn, average='weighted')\n",
    "f1 = f1_score(y_test, predictions_knn, average='weighted')\n",
    "\n",
    "y_pred = model_knn.predict(x_test)\n",
    "y_pred_proba = model_knn.predict_proba(x_test)\n",
    "roc_auc = roc_auc_score(y_test, y_pred, multi_class='ovr')\n",
    "\n",
    "print(f'Accuracy: {accuracy:.2f} \\nPrecision: {precision:.2f} \\nRecall: {recall:.2f} \\\n",
    "      \\nF1 Score: {f1:.2f} \\nROC: {roc_auc:.2f}')\n"
   ]
  },
  {
   "cell_type": "markdown",
   "metadata": {},
   "source": [
    "### Дерево решений:"
   ]
  },
  {
   "cell_type": "code",
   "execution_count": 10,
   "metadata": {},
   "outputs": [
    {
     "name": "stdout",
     "output_type": "stream",
     "text": [
      "Accuracy: 0.57 \n",
      "Precision: 0.57 \n",
      "Recall: 0.57       \n",
      "F1 Score: 0.57 \n",
      "ROC: 0.54\n"
     ]
    }
   ],
   "source": [
    "model_tree = DecisionTreeClassifier()\n",
    "model_tree.fit(x_train, y_train)\n",
    "predictions_tree = model_tree.predict(x_test)\n",
    "accuracy = accuracy_score(y_test, predictions_tree)\n",
    "precision = precision_score(y_test, predictions_tree, average='weighted')\n",
    "recall = recall_score(y_test, predictions_tree, average='weighted')\n",
    "f1 = f1_score(y_test, predictions_tree, average='weighted')\n",
    "\n",
    "y_pred = model_tree.predict(x_test)\n",
    "roc_auc = roc_auc_score(y_test, y_pred, multi_class='ovr')\n",
    "\n",
    "print(f'Accuracy: {accuracy:.2f} \\nPrecision: {precision:.2f} \\nRecall: {recall:.2f} \\\n",
    "      \\nF1 Score: {f1:.2f} \\nROC: {roc_auc:.2f}')"
   ]
  },
  {
   "cell_type": "markdown",
   "metadata": {},
   "source": [
    "## Вывод\n",
    "Aлгоритм kNN показывает немного лучшие значения точности (Accuracy) и полноты (Recall) по сравнению с деревом решений.\n",
    "Однако значения F1-меры и Precision ниже, что может указывать на более высокую чувствительность модели к дисбалансу классов.\n",
    "\n",
    "Алгоритм Decision Tree даёт более стабильные результаты, так как все метрики имеют одинаковое значение.\n",
    "Это указывает на то, что модель принимает более сбалансированные решения, но, в целом, ее качество ниже."
   ]
  }
 ],
 "metadata": {
  "kernelspec": {
   "display_name": "Python 3",
   "language": "python",
   "name": "python3"
  },
  "language_info": {
   "codemirror_mode": {
    "name": "ipython",
    "version": 3
   },
   "file_extension": ".py",
   "mimetype": "text/x-python",
   "name": "python",
   "nbconvert_exporter": "python",
   "pygments_lexer": "ipython3",
   "version": "3.12.8"
  }
 },
 "nbformat": 4,
 "nbformat_minor": 2
}
